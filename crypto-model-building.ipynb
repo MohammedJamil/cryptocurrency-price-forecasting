{
 "cells": [
  {
   "cell_type": "markdown",
   "id": "af69c6fd-6995-46cd-91b1-06e5f1afeebe",
   "metadata": {},
   "source": [
    "# Cryptocurrency Model building\n",
    "\n",
    "*Mohammed Jamil*"
   ]
  },
  {
   "cell_type": "markdown",
   "id": "68a56644-66fc-4e36-b158-ee65a993d109",
   "metadata": {},
   "source": [
    "## Context\n",
    "\n",
    "The first half of 2022 has been very bad for the crypto market. Crypto industry experts have mixed opinions about the future of cryptocurrencies. While some believe the market will continue to be volatile, others expect some stability in the second half of 2022.\n",
    "\n",
    "In these uncertain times for the crypto market, is it still worth the risk investing in cryptocurrencies ? and what are the low-risk cryptocurrencies to consider ?"
   ]
  },
  {
   "cell_type": "markdown",
   "id": "5b3b8832-3735-4de1-a936-a84bd40291df",
   "metadata": {},
   "source": [
    "## Table of Contents :\n",
    "\n",
    "- Importing data"
   ]
  },
  {
   "cell_type": "markdown",
   "id": "c3703de2-fea1-4c5e-a2e2-0622851e1842",
   "metadata": {},
   "source": [
    "## Dependencies :"
   ]
  },
  {
   "cell_type": "code",
   "execution_count": 2,
   "id": "9adfb8e2-7113-431c-a39d-9363e77b86d3",
   "metadata": {},
   "outputs": [
    {
     "name": "stderr",
     "output_type": "stream",
     "text": [
      "2022-09-21 19:49:22.646632: I tensorflow/core/platform/cpu_feature_guard.cc:193] This TensorFlow binary is optimized with oneAPI Deep Neural Network Library (oneDNN) to use the following CPU instructions in performance-critical operations:  AVX2 AVX512F AVX512_VNNI FMA\n",
      "To enable them in other operations, rebuild TensorFlow with the appropriate compiler flags.\n",
      "2022-09-21 19:49:27.214751: I tensorflow/core/util/util.cc:169] oneDNN custom operations are on. You may see slightly different numerical results due to floating-point round-off errors from different computation orders. To turn them off, set the environment variable `TF_ENABLE_ONEDNN_OPTS=0`.\n",
      "2022-09-21 19:49:28.748358: W tensorflow/stream_executor/platform/default/dso_loader.cc:64] Could not load dynamic library 'libcudart.so.11.0'; dlerror: libcudart.so.11.0: cannot open shared object file: No such file or directory\n",
      "2022-09-21 19:49:28.748392: I tensorflow/stream_executor/cuda/cudart_stub.cc:29] Ignore above cudart dlerror if you do not have a GPU set up on your machine.\n",
      "2022-09-21 19:49:29.125564: E tensorflow/stream_executor/cuda/cuda_blas.cc:2981] Unable to register cuBLAS factory: Attempting to register factory for plugin cuBLAS when one has already been registered\n",
      "2022-09-21 19:49:40.982977: W tensorflow/stream_executor/platform/default/dso_loader.cc:64] Could not load dynamic library 'libnvinfer.so.7'; dlerror: libnvinfer.so.7: cannot open shared object file: No such file or directory\n",
      "2022-09-21 19:49:40.983305: W tensorflow/stream_executor/platform/default/dso_loader.cc:64] Could not load dynamic library 'libnvinfer_plugin.so.7'; dlerror: libnvinfer_plugin.so.7: cannot open shared object file: No such file or directory\n",
      "2022-09-21 19:49:40.983321: W tensorflow/compiler/tf2tensorrt/utils/py_utils.cc:38] TF-TRT Warning: Cannot dlopen some TensorRT libraries. If you would like to use Nvidia GPU with TensorRT, please make sure the missing libraries mentioned above are installed properly.\n"
     ]
    }
   ],
   "source": [
    "import pandas as pd\n",
    "import numpy as np\n",
    "import matplotlib.pyplot as plt\n",
    "from sklearn.preprocessing import MinMaxScaler\n",
    "from keras.models import Sequential\n",
    "from keras.layers import Dense, LSTM"
   ]
  },
  {
   "cell_type": "markdown",
   "id": "6ba22e34-e406-4e1d-bd40-09e70ee4b6b1",
   "metadata": {},
   "source": [
    "---"
   ]
  },
  {
   "cell_type": "markdown",
   "id": "661c140a-5c07-4a2b-b8b4-1d1c0945695e",
   "metadata": {},
   "source": [
    "### Importing Data :"
   ]
  },
  {
   "cell_type": "markdown",
   "id": "d39681b0-1840-4027-ad1f-3690f41d07af",
   "metadata": {},
   "source": [
    "In the previous notebook (Cryto market analysis) we took a look at the tendencies of the crypto market to find out what are the top 10 cryptocurrencies currently, and exported the historical daily prices data into a csv file. Firstly, Let's start by loading the data."
   ]
  },
  {
   "cell_type": "markdown",
   "id": "29d441b0-bae7-445c-ba63-f6232a3740d9",
   "metadata": {},
   "source": [
    "NB: If you are not using bash juste comment the next cell and run the previous notebook."
   ]
  },
  {
   "cell_type": "code",
   "execution_count": 16,
   "id": "eb6a8160-ac10-4955-98eb-ff0eb754ed8e",
   "metadata": {},
   "outputs": [],
   "source": [
    "%%bash\n",
    "\n",
    "CSV_FILE=./top10-crypto-daily-prices.csv\n",
    "\n",
    "if [ ! -f \"$CSV_FILE\" ]; then\n",
    "    python3 crypto-daily-prices.py\n",
    "fi"
   ]
  },
  {
   "cell_type": "code",
   "execution_count": 20,
   "id": "57248612-65ab-45d3-8683-baf7a5204052",
   "metadata": {},
   "outputs": [
    {
     "name": "stdout",
     "output_type": "stream",
     "text": [
      "DataFrame shape : (22387, 3)\n"
     ]
    },
    {
     "data": {
      "text/html": [
       "<div>\n",
       "<style scoped>\n",
       "    .dataframe tbody tr th:only-of-type {\n",
       "        vertical-align: middle;\n",
       "    }\n",
       "\n",
       "    .dataframe tbody tr th {\n",
       "        vertical-align: top;\n",
       "    }\n",
       "\n",
       "    .dataframe thead th {\n",
       "        text-align: right;\n",
       "    }\n",
       "</style>\n",
       "<table border=\"1\" class=\"dataframe\">\n",
       "  <thead>\n",
       "    <tr style=\"text-align: right;\">\n",
       "      <th></th>\n",
       "      <th>id</th>\n",
       "      <th>date</th>\n",
       "      <th>price</th>\n",
       "    </tr>\n",
       "  </thead>\n",
       "  <tbody>\n",
       "    <tr>\n",
       "      <th>0</th>\n",
       "      <td>bitcoin</td>\n",
       "      <td>2013-04-28</td>\n",
       "      <td>135.30</td>\n",
       "    </tr>\n",
       "    <tr>\n",
       "      <th>1</th>\n",
       "      <td>bitcoin</td>\n",
       "      <td>2013-04-29</td>\n",
       "      <td>141.96</td>\n",
       "    </tr>\n",
       "    <tr>\n",
       "      <th>2</th>\n",
       "      <td>bitcoin</td>\n",
       "      <td>2013-04-30</td>\n",
       "      <td>135.30</td>\n",
       "    </tr>\n",
       "    <tr>\n",
       "      <th>3</th>\n",
       "      <td>bitcoin</td>\n",
       "      <td>2013-05-01</td>\n",
       "      <td>117.00</td>\n",
       "    </tr>\n",
       "    <tr>\n",
       "      <th>4</th>\n",
       "      <td>bitcoin</td>\n",
       "      <td>2013-05-02</td>\n",
       "      <td>103.43</td>\n",
       "    </tr>\n",
       "  </tbody>\n",
       "</table>\n",
       "</div>"
      ],
      "text/plain": [
       "        id        date   price\n",
       "0  bitcoin  2013-04-28  135.30\n",
       "1  bitcoin  2013-04-29  141.96\n",
       "2  bitcoin  2013-04-30  135.30\n",
       "3  bitcoin  2013-05-01  117.00\n",
       "4  bitcoin  2013-05-02  103.43"
      ]
     },
     "execution_count": 20,
     "metadata": {},
     "output_type": "execute_result"
    }
   ],
   "source": [
    "# Reading data from csv.\n",
    "\n",
    "file = \"top10-crypto-daily-prices.csv\"\n",
    "daily_prices_df = pd.read_csv(file, index_col=0)\n",
    "print(\"DataFrame shape :\",daily_prices_df.shape)\n",
    "daily_prices_df.head()"
   ]
  },
  {
   "cell_type": "markdown",
   "id": "e0f4e893-d49d-4a31-947a-74ac00571344",
   "metadata": {},
   "source": []
  }
 ],
 "metadata": {
  "kernelspec": {
   "display_name": "Python 3 (ipykernel)",
   "language": "python",
   "name": "python3"
  },
  "language_info": {
   "codemirror_mode": {
    "name": "ipython",
    "version": 3
   },
   "file_extension": ".py",
   "mimetype": "text/x-python",
   "name": "python",
   "nbconvert_exporter": "python",
   "pygments_lexer": "ipython3",
   "version": "3.10.4"
  }
 },
 "nbformat": 4,
 "nbformat_minor": 5
}
