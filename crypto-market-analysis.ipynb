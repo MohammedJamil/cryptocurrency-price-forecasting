{
 "cells": [
  {
   "cell_type": "markdown",
   "id": "79164025",
   "metadata": {},
   "source": [
    "# Cryptocurrency Market Analysis\n",
    "\n",
    "*Mohammed Jamil*"
   ]
  },
  {
   "cell_type": "markdown",
   "id": "3476b461",
   "metadata": {},
   "source": [
    "## Context\n",
    "\n",
    "The first half of 2022 has been very bad for the crypto market. Crypto industry experts have mixed opinions about the future of cryptocurrencies. While some believe the market will continue to be volatile, others expect some stability in the second half of 2022.\n",
    "\n",
    "In these uncertain times for the crypto market, is it still worth the risk investing in cryptocurrencies ? and what are the low-risk cryptocurrencies to consider ? These are some questions that we will try to answer in this exploratory analysis and the other notebooks included in this project."
   ]
  },
  {
   "cell_type": "markdown",
   "id": "54c3d2b3",
   "metadata": {},
   "source": [
    "## Table of Contents :\n",
    "\n",
    "- Data collection.\n",
    "- Exploratory data analysis."
   ]
  },
  {
   "cell_type": "markdown",
   "id": "cedb1685",
   "metadata": {},
   "source": [
    "---"
   ]
  },
  {
   "cell_type": "markdown",
   "id": "95a15a6d",
   "metadata": {},
   "source": [
    "### Data Collection :"
   ]
  },
  {
   "cell_type": "markdown",
   "id": "2f135394",
   "metadata": {},
   "source": [
    "First let's import the necessery libraries for this analysis and define some global variables and helper functions."
   ]
  },
  {
   "cell_type": "code",
   "execution_count": 1,
   "id": "42a34b7f",
   "metadata": {},
   "outputs": [],
   "source": [
    "import pandas as pd\n",
    "import numpy as np\n",
    "import matplotlib.pyplot as plt\n",
    "import requests\n",
    "import datetime\n",
    "import time"
   ]
  },
  {
   "cell_type": "code",
   "execution_count": 2,
   "id": "56233e6e",
   "metadata": {},
   "outputs": [],
   "source": [
    "#Let's define global variables.\n",
    "\n",
    "current_date = datetime.date.today()"
   ]
  },
  {
   "cell_type": "code",
   "execution_count": 3,
   "id": "8068e318",
   "metadata": {},
   "outputs": [],
   "source": [
    "#Let's define some helper functions.\n",
    "\n",
    "def date_to_posix_timestamp(date):\n",
    "    \"\"\"\n",
    "    Converts datetime.date object or a date string into posix timestamp.\n",
    "    NB: date string must be in iso format 'YYYY-MM-DD'.\n",
    "    \n",
    "    Params:\n",
    "    -------\n",
    "        date (datetime.date or string) - Date to convert.\n",
    "    \n",
    "    Returns:\n",
    "    --------\n",
    "        Posix timestamp (Integer).\n",
    "    \"\"\"\n",
    "    \n",
    "    if not isinstance(date, datetime.date):\n",
    "        date = datetime.date.fromisoformat(date)\n",
    "    \n",
    "    timestamp = int(time.mktime(date.timetuple()))\n",
    "    \n",
    "    return timestamp"
   ]
  },
  {
   "cell_type": "markdown",
   "id": "347f9a34",
   "metadata": {},
   "source": [
    "To collect cryptocurrency market data, we are going to use the **CoinGecko** API."
   ]
  },
  {
   "cell_type": "markdown",
   "id": "99587a8f",
   "metadata": {},
   "source": [
    "Before we start retreiving the historical data about cryptocurrency prices (USD), we need some general information about the currencies supported by the API. \n",
    "\n",
    "NB: We will limit this analysis only to the most popular cryptocurrencies."
   ]
  },
  {
   "cell_type": "code",
   "execution_count": 4,
   "id": "d9892a19",
   "metadata": {},
   "outputs": [],
   "source": [
    "def get_topN_currencies(n, vs_currency=\"usd\"):\n",
    "    \"\"\"\n",
    "    Retreives the top N cryptocurrencies with the highest market value (N_max = 250).\n",
    "    \n",
    "    Params:\n",
    "    -------\n",
    "        vs_currency (String) - The target currency of market data.\n",
    "        n (Integer)          - Number of currencies.\n",
    "    \n",
    "    Returns:\n",
    "    --------\n",
    "        Top N currencies, their id and symbols (pandas.DataFrame).\n",
    "    \"\"\"\n",
    "    \n",
    "    url = \"https://api.coingecko.com/api/v3/coins/markets\"\n",
    "    params = {\"vs_currency\": vs_currency, \"order\": \"market_cap_desc\", \"per_page\": n, \"page\": 1, \"sparkline\":False}\n",
    "    response = requests.get(url, params=params)\n",
    "    result = np.array(list(map(lambda x: [x['id'], x['symbol'], x['name'], x['market_cap'], x['total_volume']], response.json())))\n",
    "    data = pd.DataFrame.from_dict({'id': result[:,0],\n",
    "                                   'symbol': result[:,1],\n",
    "                                   'name': result[:,2],\n",
    "                                   'market_cap': result[:,3],\n",
    "                                   'total_volume': result[:,4]})\n",
    "    \n",
    "    return data"
   ]
  },
  {
   "cell_type": "code",
   "execution_count": 5,
   "id": "3316ea65",
   "metadata": {},
   "outputs": [
    {
     "name": "stdout",
     "output_type": "stream",
     "text": [
      "Number of cryptocurrencies retrieved :  100\n"
     ]
    },
    {
     "data": {
      "text/html": [
       "<div>\n",
       "<style scoped>\n",
       "    .dataframe tbody tr th:only-of-type {\n",
       "        vertical-align: middle;\n",
       "    }\n",
       "\n",
       "    .dataframe tbody tr th {\n",
       "        vertical-align: top;\n",
       "    }\n",
       "\n",
       "    .dataframe thead th {\n",
       "        text-align: right;\n",
       "    }\n",
       "</style>\n",
       "<table border=\"1\" class=\"dataframe\">\n",
       "  <thead>\n",
       "    <tr style=\"text-align: right;\">\n",
       "      <th></th>\n",
       "      <th>id</th>\n",
       "      <th>symbol</th>\n",
       "      <th>name</th>\n",
       "      <th>market_cap</th>\n",
       "      <th>total_volume</th>\n",
       "    </tr>\n",
       "  </thead>\n",
       "  <tbody>\n",
       "    <tr>\n",
       "      <th>0</th>\n",
       "      <td>bitcoin</td>\n",
       "      <td>btc</td>\n",
       "      <td>Bitcoin</td>\n",
       "      <td>369947615954</td>\n",
       "      <td>30157016176</td>\n",
       "    </tr>\n",
       "    <tr>\n",
       "      <th>1</th>\n",
       "      <td>ethereum</td>\n",
       "      <td>eth</td>\n",
       "      <td>Ethereum</td>\n",
       "      <td>197262847971</td>\n",
       "      <td>17777831554</td>\n",
       "    </tr>\n",
       "    <tr>\n",
       "      <th>2</th>\n",
       "      <td>tether</td>\n",
       "      <td>usdt</td>\n",
       "      <td>Tether</td>\n",
       "      <td>67630964589</td>\n",
       "      <td>42626579284</td>\n",
       "    </tr>\n",
       "    <tr>\n",
       "      <th>3</th>\n",
       "      <td>usd-coin</td>\n",
       "      <td>usdc</td>\n",
       "      <td>USD Coin</td>\n",
       "      <td>51706763129</td>\n",
       "      <td>5794385565</td>\n",
       "    </tr>\n",
       "    <tr>\n",
       "      <th>4</th>\n",
       "      <td>binancecoin</td>\n",
       "      <td>bnb</td>\n",
       "      <td>BNB</td>\n",
       "      <td>45582435942</td>\n",
       "      <td>241083759</td>\n",
       "    </tr>\n",
       "  </tbody>\n",
       "</table>\n",
       "</div>"
      ],
      "text/plain": [
       "            id symbol      name    market_cap total_volume\n",
       "0      bitcoin    btc   Bitcoin  369947615954  30157016176\n",
       "1     ethereum    eth  Ethereum  197262847971  17777831554\n",
       "2       tether   usdt    Tether   67630964589  42626579284\n",
       "3     usd-coin   usdc  USD Coin   51706763129   5794385565\n",
       "4  binancecoin    bnb       BNB   45582435942    241083759"
      ]
     },
     "execution_count": 5,
     "metadata": {},
     "output_type": "execute_result"
    }
   ],
   "source": [
    "currencies_df = get_topN_currencies(100)\n",
    "print(\"Number of cryptocurrencies retrieved : \", currencies_df.shape[0])\n",
    "currencies_df.head()"
   ]
  },
  {
   "cell_type": "code",
   "execution_count": 8,
   "id": "7012d588",
   "metadata": {},
   "outputs": [],
   "source": [
    "def coin_historical_data(coin_id, vs_currency='usd', nb_days='max'):\n",
    "    \"\"\"\n",
    "    Fetchs historical data about a specific cryptocurrency from the CoinGecko's API.\n",
    "    \n",
    "    Params:\n",
    "    -------\n",
    "        coin_sym (String)    - Cryptocurrency id .\n",
    "        vs_currency (String) - The target currency of market data.\n",
    "        nb_days (Integer or \"max\") - Data up to number of days ago (1/7/14/30/90/180/365/max)\n",
    "    \n",
    "    Returns:\n",
    "    --------\n",
    "        Market historical data of the specified cryptocurrency (pandas.DataFrame).\n",
    "    \n",
    "    \"\"\"\n",
    "    \n",
    "    url= \"https://api.coingecko.com/api/v3/coins/{}/ohlc\".format(coin_id)\n",
    "    params = {\"vs_currency\": vs_currency, \"days\": nb_days}\n",
    "    response = requests.get(url, params=params)\n",
    "    result = np.array(response.json())\n",
    "    data = pd.DataFrame.from_dict({'date': result[:,0],\n",
    "                                   'open': result[:,1], \n",
    "                                   'high': result[:,2], \n",
    "                                   'low': result[:,2], \n",
    "                                   'close': result[:,4]})\n",
    "    data.date = data.date.apply(lambda x: datetime.date.fromtimestamp(x/1000))\n",
    "    data.insert(0, \"id\", coin_id, True)\n",
    "    \n",
    "    return data"
   ]
  },
  {
   "cell_type": "markdown",
   "id": "efb4caf4",
   "metadata": {},
   "source": [
    "Let's check if our function works."
   ]
  },
  {
   "cell_type": "code",
   "execution_count": 12,
   "id": "ddbaf1c9",
   "metadata": {},
   "outputs": [
    {
     "name": "stdout",
     "output_type": "stream",
     "text": [
      "Number of records :  892\n"
     ]
    },
    {
     "data": {
      "text/html": [
       "<div>\n",
       "<style scoped>\n",
       "    .dataframe tbody tr th:only-of-type {\n",
       "        vertical-align: middle;\n",
       "    }\n",
       "\n",
       "    .dataframe tbody tr th {\n",
       "        vertical-align: top;\n",
       "    }\n",
       "\n",
       "    .dataframe thead th {\n",
       "        text-align: right;\n",
       "    }\n",
       "</style>\n",
       "<table border=\"1\" class=\"dataframe\">\n",
       "  <thead>\n",
       "    <tr style=\"text-align: right;\">\n",
       "      <th></th>\n",
       "      <th>id</th>\n",
       "      <th>date</th>\n",
       "      <th>open</th>\n",
       "      <th>high</th>\n",
       "      <th>low</th>\n",
       "      <th>close</th>\n",
       "    </tr>\n",
       "  </thead>\n",
       "  <tbody>\n",
       "    <tr>\n",
       "      <th>887</th>\n",
       "      <td>bitcoin</td>\n",
       "      <td>2022-08-23</td>\n",
       "      <td>20945.83</td>\n",
       "      <td>21615.76</td>\n",
       "      <td>21615.76</td>\n",
       "      <td>21387.75</td>\n",
       "    </tr>\n",
       "    <tr>\n",
       "      <th>888</th>\n",
       "      <td>bitcoin</td>\n",
       "      <td>2022-08-27</td>\n",
       "      <td>21562.45</td>\n",
       "      <td>21618.01</td>\n",
       "      <td>21618.01</td>\n",
       "      <td>20271.32</td>\n",
       "    </tr>\n",
       "    <tr>\n",
       "      <th>889</th>\n",
       "      <td>bitcoin</td>\n",
       "      <td>2022-08-31</td>\n",
       "      <td>20069.95</td>\n",
       "      <td>20308.86</td>\n",
       "      <td>20308.86</td>\n",
       "      <td>19805.35</td>\n",
       "    </tr>\n",
       "    <tr>\n",
       "      <th>890</th>\n",
       "      <td>bitcoin</td>\n",
       "      <td>2022-09-03</td>\n",
       "      <td>20023.55</td>\n",
       "      <td>20153.98</td>\n",
       "      <td>20153.98</td>\n",
       "      <td>19941.45</td>\n",
       "    </tr>\n",
       "    <tr>\n",
       "      <th>891</th>\n",
       "      <td>bitcoin</td>\n",
       "      <td>2022-09-07</td>\n",
       "      <td>19814.56</td>\n",
       "      <td>19980.01</td>\n",
       "      <td>19980.01</td>\n",
       "      <td>18859.50</td>\n",
       "    </tr>\n",
       "  </tbody>\n",
       "</table>\n",
       "</div>"
      ],
      "text/plain": [
       "          id        date      open      high       low     close\n",
       "887  bitcoin  2022-08-23  20945.83  21615.76  21615.76  21387.75\n",
       "888  bitcoin  2022-08-27  21562.45  21618.01  21618.01  20271.32\n",
       "889  bitcoin  2022-08-31  20069.95  20308.86  20308.86  19805.35\n",
       "890  bitcoin  2022-09-03  20023.55  20153.98  20153.98  19941.45\n",
       "891  bitcoin  2022-09-07  19814.56  19980.01  19980.01  18859.50"
      ]
     },
     "execution_count": 12,
     "metadata": {},
     "output_type": "execute_result"
    }
   ],
   "source": [
    "# Let's fetch bitcoin data.\n",
    "\n",
    "bitcoin_df = coin_historical_data('bitcoin')\n",
    "print(\"Number of records : \", bitcoin_df.shape[0])\n",
    "bitcoin_df.tail()"
   ]
  },
  {
   "cell_type": "markdown",
   "id": "0e87e0c2",
   "metadata": {},
   "source": [
    "Perfect !"
   ]
  },
  {
   "cell_type": "markdown",
   "id": "3385ab80",
   "metadata": {},
   "source": [
    "---"
   ]
  },
  {
   "cell_type": "markdown",
   "id": "a24d1b11",
   "metadata": {},
   "source": [
    "### Exploratory data analysis :"
   ]
  },
  {
   "cell_type": "markdown",
   "id": "caf18d42",
   "metadata": {},
   "source": []
  }
 ],
 "metadata": {
  "kernelspec": {
   "display_name": "Python 3 (ipykernel)",
   "language": "python",
   "name": "python3"
  },
  "language_info": {
   "codemirror_mode": {
    "name": "ipython",
    "version": 3
   },
   "file_extension": ".py",
   "mimetype": "text/x-python",
   "name": "python",
   "nbconvert_exporter": "python",
   "pygments_lexer": "ipython3",
   "version": "3.10.4"
  }
 },
 "nbformat": 4,
 "nbformat_minor": 5
}
